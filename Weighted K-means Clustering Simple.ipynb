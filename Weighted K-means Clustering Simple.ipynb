{
 "cells": [
  {
   "cell_type": "markdown",
   "id": "38ffe37f",
   "metadata": {
    "tags": []
   },
   "source": [
    "# Weighted K Means Clustering   \n"
   ]
  },
  {
   "cell_type": "markdown",
   "id": "25387f76",
   "metadata": {},
   "source": [
    "## 1. Introduction"
   ]
  },
  {
   "cell_type": "markdown",
   "id": "ed84d2a4",
   "metadata": {},
   "source": [
    "The Weighted K-means clustering is a new k-means clustering algorithm that can automatically weight variables based on the importance of the variables in clustering. Weighted k-means adds a new step to the basic k-means algorithm to update the variable weights based on the current partition of data. It uses a weight calculation formula that minimizes the cost function of clustering given a fixed partition of data.    \n",
    "\n"
   ]
  },
  {
   "cell_type": "markdown",
   "id": "01c53fa7",
   "metadata": {},
   "source": [
    " ## 2. The Algorithm"
   ]
  },
  {
   "cell_type": "markdown",
   "id": "67c6c2c7",
   "metadata": {},
   "source": [
    "   \n",
    "\n",
    "I would use the original [paper](https://citeseerx.ist.psu.edu/viewdoc/download?doi=10.1.1.652.9691&rep=rep1&type=pdf) by Joshua Zhexue Huang, Michael K. Ng, Hongqiang Rong, and Zichen Li as a reference and almost the same set of notations for the variables.   \n",
    "\n",
    "Let $X= \\{ X_{1}, \\ X_2,...,\\ X_n \\}$ be a set of $n$ objects. Object $X_i= \\{ x_{i,1}, \\ x_{i,2},...,\\ x_{i,m}\\}$ is characterized by a set of $m$ variables. We want to partition the $n$ objects into $k$ clusters that minimizes the objective function $P$ with unknown variables $U$,$Z$ and $W$ as follows: $$  P(U,Z,W)= \\sum_{l=1}^{k}\\sum_{i=1}^{n}\\sum_{j=1}^{m} u_{i,l} w_j^{\\beta} d(x_{i,j}, z_{l,j})  $$ where,  \n",
    "- $U$ is an $n \\times k$ partition matrix, $u_{i,l}$ is a binary variable, and $u_{i,l}=1$ indicates that object $i$ is allocated to cluster $l$;  \n",
    "- $Z= \\{ Z_{1}, \\ Z_2,...,\\ Z_k \\}$ is a set of $k$ vectors representing the centroids of the $k$ clusters;   \n",
    "- $d(x_{i,j}, z_{l,j}) $ is a distance measure between object $i$ and the centroid of the cluster $l$ on the $j$th variable. We define here $d(x_{i,j}, z_{l,j}) $ as : $$d(x_{i,j}, z_{l,j})= (x_{i,j}-z_{l,j})^{2}.$$   \n",
    "- $W= \\{ w_{1}, \\ w_2,...,\\ w_m \\}$ be the weights for the $m$ variables such that $\\sum_{j=1}^{m} w_{j}=1$ , $0 \\le w_j \\le 1.$   \n",
    "So to minimize the cost function $P$, we have the Weighted k-means clustering as follows:  \n",
    "\n",
    "**Weighted k-means Algorithm**    \n",
    "1. Randomly choose an initial $Z^{0}=\\{Z_{1},Z_{2},...,Z_{k}\\}$ and randomly generate a set of initial weights $W^{0}=[ w_{1}^{0},\\ w_{2}^{0},...,\\ w_{m}^{0}] \\ (\\sum_{j=1}^{m} w_{j}=1)$. Determine $U^{0}$ such that $P(U^{0},Z^{0},W^{0})$ is minimized. Set $t=0$ ;   \n",
    "2. Let $\\hat{Z}=Z^{t}$ and $\\hat{W}=W^{t}$, solve problem $P(U,\\hat{Z},\\hat{W})$ to obtain $U^{t+1}$. If $P(U^{t+1},\\hat{Z},\\hat{W})=P(U^{t},\\hat{Z},\\hat{W})$, output $(U^{t},\\hat{Z},\\hat{W})$ and stop; otherwise go to step 3;   \n",
    "3. Let $\\hat{U}=U^{t+1}$ and $\\hat{W}=W^{t}$, solve problem $P(\\hat{U},Z,\\hat{W})$ to obtain $Z^{t+1}$. If $P(\\hat{U},Z^{t+1},\\hat{W})=P(\\hat{U},Z^{t},\\hat{W})$, output $(\\hat{U},Z^{t},\\hat{W})$ and stop; otherwise go to step 4;   \n",
    "4. Let $\\hat{U}=U^{t+1}$ and $\\hat{Z}=Z^{t+1}$, solve problem $P(\\hat{U},\\hat{Z},W)$ to obtain $W^{t+1}$. If $P(\\hat{U},\\hat{Z},W^{t+1})=P(\\hat{U},\\hat{Z},W^{t})$, output $(\\hat{U},\\hat{Z},W^{t})$ and stop; otherwise, set $t=t+1$ go to step 2.\n",
    "\n",
    "\n",
    "\n",
    "\n"
   ]
  },
  {
   "cell_type": "markdown",
   "id": "99cc7e52",
   "metadata": {},
   "source": [
    "We start by importing the necessary libraries (pandas and Numpy) and defining a function."
   ]
  },
  {
   "cell_type": "code",
   "execution_count": 1,
   "id": "22ceca5e",
   "metadata": {},
   "outputs": [
    {
     "name": "stdout",
     "output_type": "stream",
     "text": [
      "Defaulting to user installation because normal site-packages is not writeable\n",
      "Requirement already satisfied: colorama in c:\\programdata\\anaconda3\\lib\\site-packages (0.4.4)\n",
      "Note: you may need to restart the kernel to use updated packages.\n"
     ]
    }
   ],
   "source": [
    "pip install colorama"
   ]
  },
  {
   "cell_type": "code",
   "execution_count": 2,
   "id": "84dce8be",
   "metadata": {},
   "outputs": [
    {
     "name": "stdout",
     "output_type": "stream",
     "text": [
      "Defaulting to user installation because normal site-packages is not writeable\n",
      "Requirement already satisfied: pandas in c:\\programdata\\anaconda3\\lib\\site-packages (1.4.2)\n",
      "Requirement already satisfied: numpy>=1.18.5 in c:\\programdata\\anaconda3\\lib\\site-packages (from pandas) (1.21.5)\n",
      "Requirement already satisfied: pytz>=2020.1 in c:\\programdata\\anaconda3\\lib\\site-packages (from pandas) (2021.3)\n",
      "Requirement already satisfied: python-dateutil>=2.8.1 in c:\\programdata\\anaconda3\\lib\\site-packages (from pandas) (2.8.2)\n",
      "Requirement already satisfied: six>=1.5 in c:\\programdata\\anaconda3\\lib\\site-packages (from python-dateutil>=2.8.1->pandas) (1.16.0)\n",
      "Note: you may need to restart the kernel to use updated packages.\n"
     ]
    }
   ],
   "source": [
    "pip install pandas"
   ]
  },
  {
   "cell_type": "code",
   "execution_count": 3,
   "id": "a22944fe",
   "metadata": {},
   "outputs": [],
   "source": [
    "import pandas as pd\n",
    "import numpy as np\n",
    "import math\n",
    "import random\n",
    "from colorama import Fore, Back, Style\n",
    "from IPython.display import Markdown, display\n",
    "def printmd(string):\n",
    "    display(Markdown(string))\n",
    "    \n",
    "def np_ed(point_1, point_2,A):\n",
    "    distance = np.sum((np.dot(A,np.transpose(np.square(np.array(point_1) - np.array(point_2))))))\n",
    "    return distance\n",
    "\n",
    "\n"
   ]
  },
  {
   "cell_type": "markdown",
   "id": "4fb2c271",
   "metadata": {
    "tags": []
   },
   "source": [
    "## 3. Defining the W k-Means Function"
   ]
  },
  {
   "cell_type": "markdown",
   "id": "832c3ec0",
   "metadata": {},
   "source": [
    "### 3.1 Initializing the first centroids, weights and determining $T$ by minimizing $P$"
   ]
  },
  {
   "cell_type": "markdown",
   "id": "6aa9e472",
   "metadata": {},
   "source": [
    "As the 1st step of the Weighted K Means clustering we initialize the centroid vector and randomly generate the set of initial weights. Then we determine the clusters for each data points in the first iteration.   \n",
    "**Replacing $U$ by $T$**   \n",
    "In the original paper, to denote the clusters for each data point in every iteration, the $n \\times k$ matrix $U$ was used. The elements $u_{i,l}$ of $U$ is a binary variable, and $u_{i,l}=1$ indicates that object $i$ is allocated to cluster $l$. For brevity and ease, I use a different variable $T$ which is a $(n \\times 1)$ column vector, each element of $T$ is a number from the set $\\{1,2,...,k\\}$ and $t_{i,1}=l$ ,$(l \\in \\ \\{1,2,...,k\\})$, means that the $i$th data point belongs to the $l$th cluster. So rewriting our cost function $P$ in terms of $T$, $$  P(T,Z,W)= \\sum_{l=1}^{k}\\sum_{i=1}^{n}\\sum_{j=1}^{m} \\mathbb{1}(t_{i,1}=l) w_j^{\\beta} d(x_{i,j}, z_{l,j})  $$ where $\\mathbb{1}$ is the indicator function defined as \n",
    "$$\\begin{equation}\n",
    "\\mathbb{1}(t_{i,1}=l) =\n",
    "    \\begin{cases}\n",
    "        1 & \\text{if the $i$th data point belongs to the $l$th cluster} \\\\\n",
    "        0 & \\text{otherwise}\n",
    "    \\end{cases}\n",
    "\\end{equation}$$\n",
    "\n",
    "\n"
   ]
  },
  {
   "cell_type": "markdown",
   "id": "8ed79b57",
   "metadata": {},
   "source": [
    "### 3.2 Iteration step for the centroids and weights"
   ]
  },
  {
   "cell_type": "markdown",
   "id": "b1796598",
   "metadata": {},
   "source": [
    "Now we implement the W k-means clustering. We carry the three steps until the cost function $P$ becomes constant. In the 2nd step of the W k-means clustering, using the $Z$ and $W$ of the previous iteration we solve for the $T$ that minimizes the cost function $P$. In the following code, after every iteration for the number of data points that belong to each cluster, we get the matrix $T$, the number of data points in each cluster in that iteration and the value of $P$ as output.   \n",
    "In the 3rd step of the W k-means clustering, using the $T$ and $W$ of the previous iteration we solve for the $Z$ that minimizes the cost function $P$. Solving for $Z$, we get that $P$ is minimized when $$z_{l,j}= \\frac{\\sum_{i=1}^{n} \\mathbb{1}(t_{i,1}=l)\\ x_{i,j}}{\\sum_{i=1}^{n} \\mathbb{1}(t_{i,1}=l)}$$where $1 \\le l \\le k$ and $0 \\le j \\le m$.  The following code gives us the new centroids and the value of $P$.   \n",
    "In the 4th step of the W k-means clustering, using the $T$ and $Z$ of the previous iteration we solve for the $W$ that minimizes the cost function $P$. Solving for $W$, we get that $P$ is minimized when $$w_j= \\frac{1}{\\sum_{t=0}^{m-1} \\left[\\frac{D_j}{D_t}\\right]^{\\frac{1}{\\beta - 1}}} \\ \\ \\ \\ \\ (j\\in \\{0,1,2,... m-1\\} \\ \\text{and} \\ \\beta=2)$$ where $$D_t= \\sum_{l=1}^{k}\\sum_{i=1}^{n} \\mathbb{1}(t_{i,1}=l) d(x_{i,t}, z_{l,t})  $$ The following code gives us the new weights and the value of $P$."
   ]
  },
  {
   "cell_type": "code",
   "execution_count": 4,
   "id": "88642002",
   "metadata": {},
   "outputs": [],
   "source": [
    "def Wkmeans(X, k, max_iter=100, tol=1e-6):\n",
    "    P=0\n",
    "    q=1\n",
    "    A=np.random.choice(X.shape[0], 3, replace=False)\n",
    "    print(A)\n",
    "    Z = np.array(X[A])  \n",
    "    B=2                      #Selecting Beta(B)\n",
    "    W=np.array([[pow(0.69,B),0,0,0],[0,pow(0.1,B),0,0],[0,0,pow(0.03,B),0], [0,0,0,pow(0.18,B)]])  #Initializing the weights\n",
    "    for o in range(max_iter):\n",
    "        T=np.zeros(X.shape[0])\n",
    "        P1=P\n",
    "        P=0\n",
    "        ed=np.zeros((X.shape[0],k))\n",
    "        for i in range(X.shape[0]):\n",
    "            for j in range(k):\n",
    "                ed[i][j] = np_ed(Z[j], X[i],W)\n",
    "        np.T = np.argmin(ed, axis=1) \n",
    "\n",
    "        for i in range(X.shape[0]):\n",
    "            P =  P + np_ed(X[i], Z[np.T[i]],W)\n",
    "    \n",
    "        print(Fore.LIGHTBLUE_EX,\"The new clusters for the\",q,\"th iteration\")    \n",
    "        printmd(\"**The Matrix T :**\")\n",
    "        print(np.T)\n",
    "        printmd(\"**No. of data points in 1st cluster:**\")            #The new clusters in this iteration\n",
    "        print(np.count_nonzero(np.T == 0))\n",
    "        printmd(\"**No. of data points in 2nd cluster:**\") \n",
    "        print(np.count_nonzero(np.T == 1))\n",
    "        printmd(\"**No. of data points in 3rd cluster:**\")\n",
    "        print(np.count_nonzero(np.T == 2))  \n",
    "        printmd(\"**Value of P:**\")\n",
    "        print(P,\"\\n\")\n",
    "        if (P1==P): \n",
    "            break\n",
    "        \n",
    "        P1=P\n",
    "        P=0\n",
    "        for j in range(k):\n",
    "            Z[j]= np.sum(X[np.T==j],axis=0)/np.count_nonzero(np.T == j)\n",
    "\n",
    "        for i in range(X.shape[0]):\n",
    "             P=  P + np_ed(X[i], Z[np.T[i]],W)\n",
    "           \n",
    "        print(Fore.LIGHTBLUE_EX,\"The new centroids for the\",q,\"th iteration\")  \n",
    "        printmd(\"**Centroids:**\")\n",
    "        print(Z)                                                     #The new clusters in this iteration\n",
    "        printmd(\"**Value of P:**\")\n",
    "        print(P,\"\\n\")\n",
    "        if (P1==P): \n",
    "            break\n",
    "    \n",
    "        P1= P\n",
    "        P=0\n",
    "        D=np.zeros(X.shape[1])\n",
    "        for i in range(X.shape[0]):\n",
    "            for j in range(X.shape[1]):\n",
    "                D[j] = D[j] + np.square(X[i][j]-Z[np.T[i]][j])\n",
    "        D1=np.zeros(X.shape[1])\n",
    "        for j in range(X.shape[1]):\n",
    "            D1[j] = 1/(pow((D[j]),1/(B-1)))\n",
    "        \n",
    "        W=np.zeros((X.shape[1],X.shape[1]))\n",
    "        for i in range(X.shape[1]):\n",
    "            for j in range(X.shape[1]):\n",
    "                if (i==j):\n",
    "                    W[i][j]= pow(1/((pow((D[i]),1/(B-1)))*(np.sum(D1))),B)\n",
    "                else:\n",
    "                    W[i][j]= 0\n",
    "           \n",
    "        for i in range(X.shape[0]):\n",
    "            P= P + np_ed(X[i], Z[np.T[i]],W)\n",
    "        print(Fore.LIGHTBLUE_EX ,\"The new weights for the\",q,\"th iteration\")\n",
    "        printmd(\"**The Weight Matrix:**\")\n",
    "        print(W)                                                               #The new weights in this iteration\n",
    "        printmd(\"**Value of P:**\")\n",
    "        print(P,\"\\n\") \n",
    "        if (P1==P): \n",
    "            break\n",
    "        q=q+1\n",
    "    print(Fore.LIGHTMAGENTA_EX,\"The number of iterations:\",q)"
   ]
  },
  {
   "cell_type": "markdown",
   "id": "4b964cf0",
   "metadata": {},
   "source": [
    "## 4. Implementing the W K-means clustering for IRIS dataset"
   ]
  },
  {
   "cell_type": "markdown",
   "id": "479a7241",
   "metadata": {},
   "source": [
    "Here I implement the Weighted K means clustering algorithm on the [IRIS dataset](https://archive.ics.uci.edu/ml/datasets/iris). The data set contains 3 classes of 50 instances each, where each class refers to a type of iris plant namely **Iris-setosa, Iris-versicolor** and **Iris-virginica**."
   ]
  },
  {
   "cell_type": "markdown",
   "id": "d7135295",
   "metadata": {},
   "source": [
    "For the IRIS dataset, we have the no. of data points $n=150$, the number of clusters $k=3$ and the no. of variables $m=4$. So our cost function $P$ for the IRIS dataset is  $$  P(T,Z,W)= \\sum_{l=1}^{3}\\sum_{i=1}^{150}\\sum_{j=0}^{3} \\mathbb{1}(t_{i,1}=l) w_j^{\\beta} d(x_{i,j}, z_{l,j})  $$"
   ]
  },
  {
   "cell_type": "code",
   "execution_count": 5,
   "id": "af88118d",
   "metadata": {},
   "outputs": [
    {
     "name": "stdout",
     "output_type": "stream",
     "text": [
      "[122 148 135]\n",
      "\u001b[94m The new clusters for the 1 th iteration\n"
     ]
    },
    {
     "data": {
      "text/markdown": [
       "**The Matrix T :**"
      ],
      "text/plain": [
       "<IPython.core.display.Markdown object>"
      ]
     },
     "metadata": {},
     "output_type": "display_data"
    },
    {
     "name": "stdout",
     "output_type": "stream",
     "text": [
      "[1 1 1 1 1 1 1 1 1 1 1 1 1 1 1 1 1 1 1 1 1 1 1 1 1 1 1 1 1 1 1 1 1 1 1 1 1\n",
      " 1 1 1 1 1 1 1 1 1 1 1 1 1 0 1 1 1 1 1 1 1 1 1 1 1 1 1 1 1 1 1 1 1 1 1 1 1\n",
      " 1 1 1 1 1 1 1 1 1 1 1 1 1 1 1 1 1 1 1 1 1 1 1 1 1 1 1 1 0 1 1 0 1 0 1 2 1\n",
      " 1 1 1 1 1 1 2 2 1 1 1 0 1 1 0 1 1 1 0 0 2 1 1 1 2 1 1 1 1 1 1 1 1 1 1 1 1\n",
      " 1 1]\n"
     ]
    },
    {
     "data": {
      "text/markdown": [
       "**No. of data points in 1st cluster:**"
      ],
      "text/plain": [
       "<IPython.core.display.Markdown object>"
      ]
     },
     "metadata": {},
     "output_type": "display_data"
    },
    {
     "name": "stdout",
     "output_type": "stream",
     "text": [
      "8\n"
     ]
    },
    {
     "data": {
      "text/markdown": [
       "**No. of data points in 2nd cluster:**"
      ],
      "text/plain": [
       "<IPython.core.display.Markdown object>"
      ]
     },
     "metadata": {},
     "output_type": "display_data"
    },
    {
     "name": "stdout",
     "output_type": "stream",
     "text": [
      "137\n"
     ]
    },
    {
     "data": {
      "text/markdown": [
       "**No. of data points in 3rd cluster:**"
      ],
      "text/plain": [
       "<IPython.core.display.Markdown object>"
      ]
     },
     "metadata": {},
     "output_type": "display_data"
    },
    {
     "name": "stdout",
     "output_type": "stream",
     "text": [
      "5\n"
     ]
    },
    {
     "data": {
      "text/markdown": [
       "**Value of P:**"
      ],
      "text/plain": [
       "<IPython.core.display.Markdown object>"
      ]
     },
     "metadata": {},
     "output_type": "display_data"
    },
    {
     "name": "stdout",
     "output_type": "stream",
     "text": [
      "58.548166999999985 \n",
      "\n",
      "\u001b[94m The new centroids for the 1 th iteration\n"
     ]
    },
    {
     "data": {
      "text/markdown": [
       "**Centroids:**"
      ],
      "text/plain": [
       "<IPython.core.display.Markdown object>"
      ]
     },
     "metadata": {},
     "output_type": "display_data"
    },
    {
     "name": "stdout",
     "output_type": "stream",
     "text": [
      "[[7.3125     2.9875     6.0125     1.8375    ]\n",
      " [5.6919708  3.04671533 3.52919708 1.12262774]\n",
      " [7.64       3.36       6.44       2.26      ]]\n"
     ]
    },
    {
     "data": {
      "text/markdown": [
       "**Value of P:**"
      ],
      "text/plain": [
       "<IPython.core.display.Markdown object>"
      ]
     },
     "metadata": {},
     "output_type": "display_data"
    },
    {
     "name": "stdout",
     "output_type": "stream",
     "text": [
      "34.357405958759124 \n",
      "\n",
      "\u001b[94m The new weights for the 1 th iteration\n"
     ]
    },
    {
     "data": {
      "text/markdown": [
       "**The Weight Matrix:**"
      ],
      "text/plain": [
       "<IPython.core.display.Markdown object>"
      ]
     },
     "metadata": {},
     "output_type": "display_data"
    },
    {
     "name": "stdout",
     "output_type": "stream",
     "text": [
      "[[0.05141916 0.         0.         0.        ]\n",
      " [0.         0.29275307 0.         0.        ]\n",
      " [0.         0.         0.00153288 0.        ]\n",
      " [0.         0.         0.         0.03725803]]\n"
     ]
    },
    {
     "data": {
      "text/markdown": [
       "**Value of P:**"
      ],
      "text/plain": [
       "<IPython.core.display.Markdown object>"
      ]
     },
     "metadata": {},
     "output_type": "display_data"
    },
    {
     "name": "stdout",
     "output_type": "stream",
     "text": [
      "14.880290303667902 \n",
      "\n",
      "\u001b[94m The new clusters for the 2 th iteration\n"
     ]
    },
    {
     "data": {
      "text/markdown": [
       "**The Matrix T :**"
      ],
      "text/plain": [
       "<IPython.core.display.Markdown object>"
      ]
     },
     "metadata": {},
     "output_type": "display_data"
    },
    {
     "name": "stdout",
     "output_type": "stream",
     "text": [
      "[1 1 1 1 1 1 1 1 1 1 1 1 1 1 1 1 1 1 1 1 1 1 1 1 1 1 1 1 1 1 1 1 1 1 1 1 1\n",
      " 1 1 1 1 1 1 1 1 1 1 1 1 1 0 1 0 1 0 1 1 1 0 1 1 1 1 1 1 0 1 1 1 1 1 1 1 1\n",
      " 1 0 0 0 1 1 1 1 1 1 1 1 0 1 1 1 1 1 1 1 1 1 1 1 1 1 2 1 0 1 0 0 1 0 0 2 0\n",
      " 0 0 1 1 0 0 2 0 1 0 1 0 1 2 0 1 1 0 0 0 2 0 1 1 0 2 0 1 0 0 0 1 0 2 0 0 0\n",
      " 1 1]\n"
     ]
    },
    {
     "data": {
      "text/markdown": [
       "**No. of data points in 1st cluster:**"
      ],
      "text/plain": [
       "<IPython.core.display.Markdown object>"
      ]
     },
     "metadata": {},
     "output_type": "display_data"
    },
    {
     "name": "stdout",
     "output_type": "stream",
     "text": [
      "36\n"
     ]
    },
    {
     "data": {
      "text/markdown": [
       "**No. of data points in 2nd cluster:**"
      ],
      "text/plain": [
       "<IPython.core.display.Markdown object>"
      ]
     },
     "metadata": {},
     "output_type": "display_data"
    },
    {
     "name": "stdout",
     "output_type": "stream",
     "text": [
      "107\n"
     ]
    },
    {
     "data": {
      "text/markdown": [
       "**No. of data points in 3rd cluster:**"
      ],
      "text/plain": [
       "<IPython.core.display.Markdown object>"
      ]
     },
     "metadata": {},
     "output_type": "display_data"
    },
    {
     "name": "stdout",
     "output_type": "stream",
     "text": [
      "7\n"
     ]
    },
    {
     "data": {
      "text/markdown": [
       "**Value of P:**"
      ],
      "text/plain": [
       "<IPython.core.display.Markdown object>"
      ]
     },
     "metadata": {},
     "output_type": "display_data"
    },
    {
     "name": "stdout",
     "output_type": "stream",
     "text": [
      "13.29606236577813 \n",
      "\n",
      "\u001b[94m The new centroids for the 2 th iteration\n"
     ]
    },
    {
     "data": {
      "text/markdown": [
       "**Centroids:**"
      ],
      "text/plain": [
       "<IPython.core.display.Markdown object>"
      ]
     },
     "metadata": {},
     "output_type": "display_data"
    },
    {
     "name": "stdout",
     "output_type": "stream",
     "text": [
      "[[6.83611111 2.96666667 5.46111111 1.91111111]\n",
      " [5.43551402 3.05420561 3.03738318 0.88598131]\n",
      " [6.97142857 3.5        6.02857143 2.31428571]]\n"
     ]
    },
    {
     "data": {
      "text/markdown": [
       "**Value of P:**"
      ],
      "text/plain": [
       "<IPython.core.display.Markdown object>"
      ]
     },
     "metadata": {},
     "output_type": "display_data"
    },
    {
     "name": "stdout",
     "output_type": "stream",
     "text": [
      "12.017164002640575 \n",
      "\n",
      "\u001b[94m The new weights for the 2 th iteration\n"
     ]
    },
    {
     "data": {
      "text/markdown": [
       "**The Weight Matrix:**"
      ],
      "text/plain": [
       "<IPython.core.display.Markdown object>"
      ]
     },
     "metadata": {},
     "output_type": "display_data"
    },
    {
     "name": "stdout",
     "output_type": "stream",
     "text": [
      "[[0.08269843 0.         0.         0.        ]\n",
      " [0.         0.19046637 0.         0.        ]\n",
      " [0.         0.         0.00184351 0.        ]\n",
      " [0.         0.         0.         0.05431977]]\n"
     ]
    },
    {
     "data": {
      "text/markdown": [
       "**Value of P:**"
      ],
      "text/plain": [
       "<IPython.core.display.Markdown object>"
      ]
     },
     "metadata": {},
     "output_type": "display_data"
    },
    {
     "name": "stdout",
     "output_type": "stream",
     "text": [
      "11.49786934344427 \n",
      "\n",
      "\u001b[94m The new clusters for the 3 th iteration\n"
     ]
    },
    {
     "data": {
      "text/markdown": [
       "**The Matrix T :**"
      ],
      "text/plain": [
       "<IPython.core.display.Markdown object>"
      ]
     },
     "metadata": {},
     "output_type": "display_data"
    },
    {
     "name": "stdout",
     "output_type": "stream",
     "text": [
      "[1 1 1 1 1 1 1 1 1 1 1 1 1 1 1 1 1 1 1 1 1 1 1 1 1 1 1 1 1 1 1 1 1 1 1 1 1\n",
      " 1 1 1 1 1 1 1 1 1 1 1 1 1 0 0 0 1 0 1 0 1 0 1 1 1 1 1 1 0 1 1 0 1 1 1 0 1\n",
      " 0 0 0 0 1 1 1 1 1 0 1 1 0 0 1 1 1 1 1 1 1 1 1 0 1 1 2 1 0 0 0 0 1 0 0 2 0\n",
      " 0 0 1 0 0 0 2 0 0 2 1 0 0 2 0 0 0 0 0 0 2 0 0 0 0 2 0 0 0 0 0 1 0 2 0 0 0\n",
      " 2 1]\n"
     ]
    },
    {
     "data": {
      "text/markdown": [
       "**No. of data points in 1st cluster:**"
      ],
      "text/plain": [
       "<IPython.core.display.Markdown object>"
      ]
     },
     "metadata": {},
     "output_type": "display_data"
    },
    {
     "name": "stdout",
     "output_type": "stream",
     "text": [
      "52\n"
     ]
    },
    {
     "data": {
      "text/markdown": [
       "**No. of data points in 2nd cluster:**"
      ],
      "text/plain": [
       "<IPython.core.display.Markdown object>"
      ]
     },
     "metadata": {},
     "output_type": "display_data"
    },
    {
     "name": "stdout",
     "output_type": "stream",
     "text": [
      "89\n"
     ]
    },
    {
     "data": {
      "text/markdown": [
       "**No. of data points in 3rd cluster:**"
      ],
      "text/plain": [
       "<IPython.core.display.Markdown object>"
      ]
     },
     "metadata": {},
     "output_type": "display_data"
    },
    {
     "name": "stdout",
     "output_type": "stream",
     "text": [
      "9\n"
     ]
    },
    {
     "data": {
      "text/markdown": [
       "**Value of P:**"
      ],
      "text/plain": [
       "<IPython.core.display.Markdown object>"
      ]
     },
     "metadata": {},
     "output_type": "display_data"
    },
    {
     "name": "stdout",
     "output_type": "stream",
     "text": [
      "10.510653653460848 \n",
      "\n",
      "\u001b[94m The new centroids for the 3 th iteration\n"
     ]
    },
    {
     "data": {
      "text/markdown": [
       "**Centroids:**"
      ],
      "text/plain": [
       "<IPython.core.display.Markdown object>"
      ]
     },
     "metadata": {},
     "output_type": "display_data"
    },
    {
     "name": "stdout",
     "output_type": "stream",
     "text": [
      "[[6.62307692 2.89230769 5.25769231 1.80576923]\n",
      " [5.28314607 3.10786517 2.66404494 0.73146067]\n",
      " [6.87777778 3.45555556 5.92222222 2.31111111]]\n"
     ]
    },
    {
     "data": {
      "text/markdown": [
       "**Value of P:**"
      ],
      "text/plain": [
       "<IPython.core.display.Markdown object>"
      ]
     },
     "metadata": {},
     "output_type": "display_data"
    },
    {
     "name": "stdout",
     "output_type": "stream",
     "text": [
      "9.857327030539084 \n",
      "\n",
      "\u001b[94m The new weights for the 3 th iteration\n"
     ]
    },
    {
     "data": {
      "text/markdown": [
       "**The Weight Matrix:**"
      ],
      "text/plain": [
       "<IPython.core.display.Markdown object>"
      ]
     },
     "metadata": {},
     "output_type": "display_data"
    },
    {
     "name": "stdout",
     "output_type": "stream",
     "text": [
      "[[0.0875518  0.         0.         0.        ]\n",
      " [0.         0.15317152 0.         0.        ]\n",
      " [0.         0.         0.00242484 0.        ]\n",
      " [0.         0.         0.         0.06942935]]\n"
     ]
    },
    {
     "data": {
      "text/markdown": [
       "**Value of P:**"
      ],
      "text/plain": [
       "<IPython.core.display.Markdown object>"
      ]
     },
     "metadata": {},
     "output_type": "display_data"
    },
    {
     "name": "stdout",
     "output_type": "stream",
     "text": [
      "9.762225627791102 \n",
      "\n",
      "\u001b[94m The new clusters for the 4 th iteration\n"
     ]
    },
    {
     "data": {
      "text/markdown": [
       "**The Matrix T :**"
      ],
      "text/plain": [
       "<IPython.core.display.Markdown object>"
      ]
     },
     "metadata": {},
     "output_type": "display_data"
    },
    {
     "name": "stdout",
     "output_type": "stream",
     "text": [
      "[1 1 1 1 1 1 1 1 1 1 1 1 1 1 1 1 1 1 1 1 1 1 1 1 1 1 1 1 1 1 1 1 1 1 1 1 1\n",
      " 1 1 1 1 1 1 1 1 1 1 1 1 1 0 0 0 1 0 1 0 1 0 1 1 0 0 0 1 0 1 1 0 1 0 0 0 0\n",
      " 0 0 0 0 0 1 1 1 1 0 1 0 0 0 1 1 1 0 1 1 1 1 1 0 1 1 2 0 0 0 0 2 1 0 0 2 0\n",
      " 0 0 0 0 2 0 2 0 0 2 0 0 0 2 2 0 0 0 0 0 2 0 0 0 2 2 0 0 0 2 2 0 2 2 0 0 0\n",
      " 2 0]\n"
     ]
    },
    {
     "data": {
      "text/markdown": [
       "**No. of data points in 1st cluster:**"
      ],
      "text/plain": [
       "<IPython.core.display.Markdown object>"
      ]
     },
     "metadata": {},
     "output_type": "display_data"
    },
    {
     "name": "stdout",
     "output_type": "stream",
     "text": [
      "59\n"
     ]
    },
    {
     "data": {
      "text/markdown": [
       "**No. of data points in 2nd cluster:**"
      ],
      "text/plain": [
       "<IPython.core.display.Markdown object>"
      ]
     },
     "metadata": {},
     "output_type": "display_data"
    },
    {
     "name": "stdout",
     "output_type": "stream",
     "text": [
      "75\n"
     ]
    },
    {
     "data": {
      "text/markdown": [
       "**No. of data points in 3rd cluster:**"
      ],
      "text/plain": [
       "<IPython.core.display.Markdown object>"
      ]
     },
     "metadata": {},
     "output_type": "display_data"
    },
    {
     "name": "stdout",
     "output_type": "stream",
     "text": [
      "16\n"
     ]
    },
    {
     "data": {
      "text/markdown": [
       "**Value of P:**"
      ],
      "text/plain": [
       "<IPython.core.display.Markdown object>"
      ]
     },
     "metadata": {},
     "output_type": "display_data"
    },
    {
     "name": "stdout",
     "output_type": "stream",
     "text": [
      "8.80375507412541 \n",
      "\n",
      "\u001b[94m The new centroids for the 4 th iteration\n"
     ]
    },
    {
     "data": {
      "text/markdown": [
       "**Centroids:**"
      ],
      "text/plain": [
       "<IPython.core.display.Markdown object>"
      ]
     },
     "metadata": {},
     "output_type": "display_data"
    },
    {
     "name": "stdout",
     "output_type": "stream",
     "text": [
      "[[6.40847458 2.8559322  5.05084746 1.70677966]\n",
      " [5.16266667 3.156      2.292      0.57066667]\n",
      " [6.95       3.30625    5.86875    2.26875   ]]\n"
     ]
    },
    {
     "data": {
      "text/markdown": [
       "**Value of P:**"
      ],
      "text/plain": [
       "<IPython.core.display.Markdown object>"
      ]
     },
     "metadata": {},
     "output_type": "display_data"
    },
    {
     "name": "stdout",
     "output_type": "stream",
     "text": [
      "8.161864209475143 \n",
      "\n",
      "\u001b[94m The new weights for the 4 th iteration\n"
     ]
    },
    {
     "data": {
      "text/markdown": [
       "**The Weight Matrix:**"
      ],
      "text/plain": [
       "<IPython.core.display.Markdown object>"
      ]
     },
     "metadata": {},
     "output_type": "display_data"
    },
    {
     "name": "stdout",
     "output_type": "stream",
     "text": [
      "[[0.0747958  0.         0.         0.        ]\n",
      " [0.         0.10998403 0.         0.        ]\n",
      " [0.         0.         0.0035634  0.        ]\n",
      " [0.         0.         0.         0.11234506]]\n"
     ]
    },
    {
     "data": {
      "text/markdown": [
       "**Value of P:**"
      ],
      "text/plain": [
       "<IPython.core.display.Markdown object>"
      ]
     },
     "metadata": {},
     "output_type": "display_data"
    },
    {
     "name": "stdout",
     "output_type": "stream",
     "text": [
      "7.926024669679442 \n",
      "\n",
      "\u001b[94m The new clusters for the 5 th iteration\n"
     ]
    },
    {
     "data": {
      "text/markdown": [
       "**The Matrix T :**"
      ],
      "text/plain": [
       "<IPython.core.display.Markdown object>"
      ]
     },
     "metadata": {},
     "output_type": "display_data"
    },
    {
     "name": "stdout",
     "output_type": "stream",
     "text": [
      "[1 1 1 1 1 1 1 1 1 1 1 1 1 1 1 1 1 1 1 1 1 1 1 1 1 1 1 1 1 1 1 1 1 1 1 1 1\n",
      " 1 1 1 1 1 1 1 1 1 1 1 1 1 0 0 0 0 0 0 0 1 0 1 1 0 0 0 0 0 0 1 0 1 0 0 0 0\n",
      " 0 0 0 0 0 1 1 1 0 0 0 0 0 0 0 0 0 0 0 1 0 0 0 0 1 0 2 0 2 0 2 2 0 2 0 2 0\n",
      " 0 2 0 0 2 0 2 2 0 2 0 2 0 2 2 0 0 0 0 2 2 0 0 0 2 2 0 0 2 2 2 0 2 2 2 0 0\n",
      " 2 0]\n"
     ]
    },
    {
     "data": {
      "text/markdown": [
       "**No. of data points in 1st cluster:**"
      ],
      "text/plain": [
       "<IPython.core.display.Markdown object>"
      ]
     },
     "metadata": {},
     "output_type": "display_data"
    },
    {
     "name": "stdout",
     "output_type": "stream",
     "text": [
      "65\n"
     ]
    },
    {
     "data": {
      "text/markdown": [
       "**No. of data points in 2nd cluster:**"
      ],
      "text/plain": [
       "<IPython.core.display.Markdown object>"
      ]
     },
     "metadata": {},
     "output_type": "display_data"
    },
    {
     "name": "stdout",
     "output_type": "stream",
     "text": [
      "60\n"
     ]
    },
    {
     "data": {
      "text/markdown": [
       "**No. of data points in 3rd cluster:**"
      ],
      "text/plain": [
       "<IPython.core.display.Markdown object>"
      ]
     },
     "metadata": {},
     "output_type": "display_data"
    },
    {
     "name": "stdout",
     "output_type": "stream",
     "text": [
      "25\n"
     ]
    },
    {
     "data": {
      "text/markdown": [
       "**Value of P:**"
      ],
      "text/plain": [
       "<IPython.core.display.Markdown object>"
      ]
     },
     "metadata": {},
     "output_type": "display_data"
    },
    {
     "name": "stdout",
     "output_type": "stream",
     "text": [
      "7.086023685441086 \n",
      "\n",
      "\u001b[94m The new centroids for the 5 th iteration\n"
     ]
    },
    {
     "data": {
      "text/markdown": [
       "**Centroids:**"
      ],
      "text/plain": [
       "<IPython.core.display.Markdown object>"
      ]
     },
     "metadata": {},
     "output_type": "display_data"
    },
    {
     "name": "stdout",
     "output_type": "stream",
     "text": [
      "[[6.11692308 2.82461538 4.72153846 1.56615385]\n",
      " [5.06       3.25666667 1.82       0.38166667]\n",
      " [7.012      3.164      5.908      2.204     ]]\n"
     ]
    },
    {
     "data": {
      "text/markdown": [
       "**Value of P:**"
      ],
      "text/plain": [
       "<IPython.core.display.Markdown object>"
      ]
     },
     "metadata": {},
     "output_type": "display_data"
    },
    {
     "name": "stdout",
     "output_type": "stream",
     "text": [
      "6.018894730725921 \n",
      "\n",
      "\u001b[94m The new weights for the 5 th iteration\n"
     ]
    },
    {
     "data": {
      "text/markdown": [
       "**The Weight Matrix:**"
      ],
      "text/plain": [
       "<IPython.core.display.Markdown object>"
      ]
     },
     "metadata": {},
     "output_type": "display_data"
    },
    {
     "name": "stdout",
     "output_type": "stream",
     "text": [
      "[[0.04518654 0.         0.         0.        ]\n",
      " [0.         0.06582171 0.         0.        ]\n",
      " [0.         0.         0.00800004 0.        ]\n",
      " [0.         0.         0.         0.19485902]]\n"
     ]
    },
    {
     "data": {
      "text/markdown": [
       "**Value of P:**"
      ],
      "text/plain": [
       "<IPython.core.display.Markdown object>"
      ]
     },
     "metadata": {},
     "output_type": "display_data"
    },
    {
     "name": "stdout",
     "output_type": "stream",
     "text": [
      "5.5995066005695 \n",
      "\n",
      "\u001b[94m The new clusters for the 6 th iteration\n"
     ]
    },
    {
     "data": {
      "text/markdown": [
       "**The Matrix T :**"
      ],
      "text/plain": [
       "<IPython.core.display.Markdown object>"
      ]
     },
     "metadata": {},
     "output_type": "display_data"
    },
    {
     "name": "stdout",
     "output_type": "stream",
     "text": [
      "[1 1 1 1 1 1 1 1 1 1 1 1 1 1 1 1 1 1 1 1 1 1 1 1 1 1 1 1 1 1 1 1 1 1 1 1 1\n",
      " 1 1 1 1 1 1 1 1 1 1 1 1 1 0 0 0 0 0 0 0 1 0 0 0 0 0 0 0 0 0 0 0 0 0 0 0 0\n",
      " 0 0 0 0 0 0 0 0 0 0 0 0 0 0 0 0 0 0 0 1 0 0 0 0 0 0 2 0 2 0 2 2 0 2 0 2 2\n",
      " 0 2 0 2 2 0 2 2 0 2 0 2 0 2 2 0 0 2 0 2 2 2 0 0 2 2 0 0 2 2 2 0 2 2 2 0 2\n",
      " 2 0]\n"
     ]
    },
    {
     "data": {
      "text/markdown": [
       "**No. of data points in 1st cluster:**"
      ],
      "text/plain": [
       "<IPython.core.display.Markdown object>"
      ]
     },
     "metadata": {},
     "output_type": "display_data"
    },
    {
     "name": "stdout",
     "output_type": "stream",
     "text": [
      "68\n"
     ]
    },
    {
     "data": {
      "text/markdown": [
       "**No. of data points in 2nd cluster:**"
      ],
      "text/plain": [
       "<IPython.core.display.Markdown object>"
      ]
     },
     "metadata": {},
     "output_type": "display_data"
    },
    {
     "name": "stdout",
     "output_type": "stream",
     "text": [
      "52\n"
     ]
    },
    {
     "data": {
      "text/markdown": [
       "**No. of data points in 3rd cluster:**"
      ],
      "text/plain": [
       "<IPython.core.display.Markdown object>"
      ]
     },
     "metadata": {},
     "output_type": "display_data"
    },
    {
     "name": "stdout",
     "output_type": "stream",
     "text": [
      "30\n"
     ]
    },
    {
     "data": {
      "text/markdown": [
       "**Value of P:**"
      ],
      "text/plain": [
       "<IPython.core.display.Markdown object>"
      ]
     },
     "metadata": {},
     "output_type": "display_data"
    },
    {
     "name": "stdout",
     "output_type": "stream",
     "text": [
      "4.695562523406976 \n",
      "\n",
      "\u001b[94m The new centroids for the 6 th iteration\n"
     ]
    },
    {
     "data": {
      "text/markdown": [
       "**Centroids:**"
      ],
      "text/plain": [
       "<IPython.core.display.Markdown object>"
      ]
     },
     "metadata": {},
     "output_type": "display_data"
    },
    {
     "name": "stdout",
     "output_type": "stream",
     "text": [
      "[[6.02058824 2.77647059 4.55441176 1.46764706]\n",
      " [5.00384615 3.37692308 1.53461538 0.27307692]\n",
      " [6.89666667 3.12333333 5.81       2.19333333]]\n"
     ]
    },
    {
     "data": {
      "text/markdown": [
       "**Value of P:**"
      ],
      "text/plain": [
       "<IPython.core.display.Markdown object>"
      ]
     },
     "metadata": {},
     "output_type": "display_data"
    },
    {
     "name": "stdout",
     "output_type": "stream",
     "text": [
      "4.278363133028229 \n",
      "\n",
      "\u001b[94m The new weights for the 6 th iteration\n"
     ]
    },
    {
     "data": {
      "text/markdown": [
       "**The Weight Matrix:**"
      ],
      "text/plain": [
       "<IPython.core.display.Markdown object>"
      ]
     },
     "metadata": {},
     "output_type": "display_data"
    },
    {
     "name": "stdout",
     "output_type": "stream",
     "text": [
      "[[0.01777756 0.         0.         0.        ]\n",
      " [0.         0.05439137 0.         0.        ]\n",
      " [0.         0.         0.01154377 0.        ]\n",
      " [0.         0.         0.         0.27668224]]\n"
     ]
    },
    {
     "data": {
      "text/markdown": [
       "**Value of P:**"
      ],
      "text/plain": [
       "<IPython.core.display.Markdown object>"
      ]
     },
     "metadata": {},
     "output_type": "display_data"
    },
    {
     "name": "stdout",
     "output_type": "stream",
     "text": [
      "4.013318951411606 \n",
      "\n",
      "\u001b[94m The new clusters for the 7 th iteration\n"
     ]
    },
    {
     "data": {
      "text/markdown": [
       "**The Matrix T :**"
      ],
      "text/plain": [
       "<IPython.core.display.Markdown object>"
      ]
     },
     "metadata": {},
     "output_type": "display_data"
    },
    {
     "name": "stdout",
     "output_type": "stream",
     "text": [
      "[1 1 1 1 1 1 1 1 1 1 1 1 1 1 1 1 1 1 1 1 1 1 1 1 1 1 1 1 1 1 1 1 1 1 1 1 1\n",
      " 1 1 1 1 1 1 1 1 1 1 1 1 1 0 0 0 0 0 0 0 0 0 0 0 0 0 0 0 0 0 0 0 0 0 0 0 0\n",
      " 0 0 0 0 0 0 0 0 0 0 0 0 0 0 0 0 0 0 0 0 0 0 0 0 0 0 2 0 2 0 2 2 0 2 0 2 2\n",
      " 2 2 2 2 2 2 2 2 0 2 2 2 0 2 2 0 0 2 0 2 2 2 0 0 2 2 2 0 2 2 2 0 2 2 2 2 2\n",
      " 2 0]\n"
     ]
    },
    {
     "data": {
      "text/markdown": [
       "**No. of data points in 1st cluster:**"
      ],
      "text/plain": [
       "<IPython.core.display.Markdown object>"
      ]
     },
     "metadata": {},
     "output_type": "display_data"
    },
    {
     "name": "stdout",
     "output_type": "stream",
     "text": [
      "64\n"
     ]
    },
    {
     "data": {
      "text/markdown": [
       "**No. of data points in 2nd cluster:**"
      ],
      "text/plain": [
       "<IPython.core.display.Markdown object>"
      ]
     },
     "metadata": {},
     "output_type": "display_data"
    },
    {
     "name": "stdout",
     "output_type": "stream",
     "text": [
      "50\n"
     ]
    },
    {
     "data": {
      "text/markdown": [
       "**No. of data points in 3rd cluster:**"
      ],
      "text/plain": [
       "<IPython.core.display.Markdown object>"
      ]
     },
     "metadata": {},
     "output_type": "display_data"
    },
    {
     "name": "stdout",
     "output_type": "stream",
     "text": [
      "36\n"
     ]
    },
    {
     "data": {
      "text/markdown": [
       "**Value of P:**"
      ],
      "text/plain": [
       "<IPython.core.display.Markdown object>"
      ]
     },
     "metadata": {},
     "output_type": "display_data"
    },
    {
     "name": "stdout",
     "output_type": "stream",
     "text": [
      "3.680610547929799 \n",
      "\n",
      "\u001b[94m The new centroids for the 7 th iteration\n"
     ]
    },
    {
     "data": {
      "text/markdown": [
       "**Centroids:**"
      ],
      "text/plain": [
       "<IPython.core.display.Markdown object>"
      ]
     },
     "metadata": {},
     "output_type": "display_data"
    },
    {
     "name": "stdout",
     "output_type": "stream",
     "text": [
      "[[5.975      2.7640625  4.4546875  1.4125    ]\n",
      " [5.006      3.418      1.464      0.244     ]\n",
      " [6.77222222 3.06388889 5.70833333 2.14444444]]\n"
     ]
    },
    {
     "data": {
      "text/markdown": [
       "**Value of P:**"
      ],
      "text/plain": [
       "<IPython.core.display.Markdown object>"
      ]
     },
     "metadata": {},
     "output_type": "display_data"
    },
    {
     "name": "stdout",
     "output_type": "stream",
     "text": [
      "3.55241002770088 \n",
      "\n",
      "\u001b[94m The new weights for the 7 th iteration\n"
     ]
    },
    {
     "data": {
      "text/markdown": [
       "**The Weight Matrix:**"
      ],
      "text/plain": [
       "<IPython.core.display.Markdown object>"
      ]
     },
     "metadata": {},
     "output_type": "display_data"
    },
    {
     "name": "stdout",
     "output_type": "stream",
     "text": [
      "[[0.01000965 0.         0.         0.        ]\n",
      " [0.         0.04770979 0.         0.        ]\n",
      " [0.         0.         0.01139944 0.        ]\n",
      " [0.         0.         0.         0.3303466 ]]\n"
     ]
    },
    {
     "data": {
      "text/markdown": [
       "**Value of P:**"
      ],
      "text/plain": [
       "<IPython.core.display.Markdown object>"
      ]
     },
     "metadata": {},
     "output_type": "display_data"
    },
    {
     "name": "stdout",
     "output_type": "stream",
     "text": [
      "3.495728403312413 \n",
      "\n",
      "\u001b[94m The new clusters for the 8 th iteration\n"
     ]
    },
    {
     "data": {
      "text/markdown": [
       "**The Matrix T :**"
      ],
      "text/plain": [
       "<IPython.core.display.Markdown object>"
      ]
     },
     "metadata": {},
     "output_type": "display_data"
    },
    {
     "name": "stdout",
     "output_type": "stream",
     "text": [
      "[1 1 1 1 1 1 1 1 1 1 1 1 1 1 1 1 1 1 1 1 1 1 1 1 1 1 1 1 1 1 1 1 1 1 1 1 1\n",
      " 1 1 1 1 1 1 1 1 1 1 1 1 1 0 0 0 0 0 0 0 0 0 0 0 0 0 0 0 0 0 0 0 0 2 0 0 0\n",
      " 0 0 0 0 0 0 0 0 0 0 0 0 0 0 0 0 0 0 0 0 0 0 0 0 0 0 2 2 2 2 2 2 0 2 2 2 2\n",
      " 2 2 2 2 2 2 2 2 0 2 2 2 0 2 2 0 2 2 0 2 2 2 0 0 2 2 2 0 2 2 2 2 2 2 2 2 2\n",
      " 2 2]\n"
     ]
    },
    {
     "data": {
      "text/markdown": [
       "**No. of data points in 1st cluster:**"
      ],
      "text/plain": [
       "<IPython.core.display.Markdown object>"
      ]
     },
     "metadata": {},
     "output_type": "display_data"
    },
    {
     "name": "stdout",
     "output_type": "stream",
     "text": [
      "57\n"
     ]
    },
    {
     "data": {
      "text/markdown": [
       "**No. of data points in 2nd cluster:**"
      ],
      "text/plain": [
       "<IPython.core.display.Markdown object>"
      ]
     },
     "metadata": {},
     "output_type": "display_data"
    },
    {
     "name": "stdout",
     "output_type": "stream",
     "text": [
      "50\n"
     ]
    },
    {
     "data": {
      "text/markdown": [
       "**No. of data points in 3rd cluster:**"
      ],
      "text/plain": [
       "<IPython.core.display.Markdown object>"
      ]
     },
     "metadata": {},
     "output_type": "display_data"
    },
    {
     "name": "stdout",
     "output_type": "stream",
     "text": [
      "43\n"
     ]
    },
    {
     "data": {
      "text/markdown": [
       "**Value of P:**"
      ],
      "text/plain": [
       "<IPython.core.display.Markdown object>"
      ]
     },
     "metadata": {},
     "output_type": "display_data"
    },
    {
     "name": "stdout",
     "output_type": "stream",
     "text": [
      "3.3475704879015895 \n",
      "\n",
      "\u001b[94m The new centroids for the 8 th iteration\n"
     ]
    },
    {
     "data": {
      "text/markdown": [
       "**Centroids:**"
      ],
      "text/plain": [
       "<IPython.core.display.Markdown object>"
      ]
     },
     "metadata": {},
     "output_type": "display_data"
    },
    {
     "name": "stdout",
     "output_type": "stream",
     "text": [
      "[[5.96315789 2.75263158 4.36315789 1.36140351]\n",
      " [5.006      3.418      1.464      0.244     ]\n",
      " [6.65813953 3.03023256 5.6255814  2.09302326]]\n"
     ]
    },
    {
     "data": {
      "text/markdown": [
       "**Value of P:**"
      ],
      "text/plain": [
       "<IPython.core.display.Markdown object>"
      ]
     },
     "metadata": {},
     "output_type": "display_data"
    },
    {
     "name": "stdout",
     "output_type": "stream",
     "text": [
      "3.2436878430729097 \n",
      "\n",
      "\u001b[94m The new weights for the 8 th iteration\n"
     ]
    },
    {
     "data": {
      "text/markdown": [
       "**The Weight Matrix:**"
      ],
      "text/plain": [
       "<IPython.core.display.Markdown object>"
      ]
     },
     "metadata": {},
     "output_type": "display_data"
    },
    {
     "name": "stdout",
     "output_type": "stream",
     "text": [
      "[[0.00729491 0.         0.         0.        ]\n",
      " [0.         0.03966783 0.         0.        ]\n",
      " [0.         0.         0.01163341 0.        ]\n",
      " [0.         0.         0.         0.36913356]]\n"
     ]
    },
    {
     "data": {
      "text/markdown": [
       "**Value of P:**"
      ],
      "text/plain": [
       "<IPython.core.display.Markdown object>"
      ]
     },
     "metadata": {},
     "output_type": "display_data"
    },
    {
     "name": "stdout",
     "output_type": "stream",
     "text": [
      "3.2238508805548873 \n",
      "\n",
      "\u001b[94m The new clusters for the 9 th iteration\n"
     ]
    },
    {
     "data": {
      "text/markdown": [
       "**The Matrix T :**"
      ],
      "text/plain": [
       "<IPython.core.display.Markdown object>"
      ]
     },
     "metadata": {},
     "output_type": "display_data"
    },
    {
     "name": "stdout",
     "output_type": "stream",
     "text": [
      "[1 1 1 1 1 1 1 1 1 1 1 1 1 1 1 1 1 1 1 1 1 1 1 1 1 1 1 1 1 1 1 1 1 1 1 1 1\n",
      " 1 1 1 1 1 1 1 1 1 1 1 1 1 0 0 0 0 0 0 0 0 0 0 0 0 0 0 0 0 0 0 0 0 2 0 0 0\n",
      " 0 0 0 0 0 0 0 0 0 0 0 0 0 0 0 0 0 0 0 0 0 0 0 0 0 0 2 2 2 2 2 2 0 2 2 2 2\n",
      " 2 2 2 2 2 2 2 2 0 2 2 2 2 2 2 2 2 2 0 2 2 2 0 0 2 2 2 2 2 2 2 2 2 2 2 2 2\n",
      " 2 2]\n"
     ]
    },
    {
     "data": {
      "text/markdown": [
       "**No. of data points in 1st cluster:**"
      ],
      "text/plain": [
       "<IPython.core.display.Markdown object>"
      ]
     },
     "metadata": {},
     "output_type": "display_data"
    },
    {
     "name": "stdout",
     "output_type": "stream",
     "text": [
      "54\n"
     ]
    },
    {
     "data": {
      "text/markdown": [
       "**No. of data points in 2nd cluster:**"
      ],
      "text/plain": [
       "<IPython.core.display.Markdown object>"
      ]
     },
     "metadata": {},
     "output_type": "display_data"
    },
    {
     "name": "stdout",
     "output_type": "stream",
     "text": [
      "50\n"
     ]
    },
    {
     "data": {
      "text/markdown": [
       "**No. of data points in 3rd cluster:**"
      ],
      "text/plain": [
       "<IPython.core.display.Markdown object>"
      ]
     },
     "metadata": {},
     "output_type": "display_data"
    },
    {
     "name": "stdout",
     "output_type": "stream",
     "text": [
      "46\n"
     ]
    },
    {
     "data": {
      "text/markdown": [
       "**Value of P:**"
      ],
      "text/plain": [
       "<IPython.core.display.Markdown object>"
      ]
     },
     "metadata": {},
     "output_type": "display_data"
    },
    {
     "name": "stdout",
     "output_type": "stream",
     "text": [
      "3.128316579228282 \n",
      "\n",
      "\u001b[94m The new centroids for the 9 th iteration\n"
     ]
    },
    {
     "data": {
      "text/markdown": [
       "**Centroids:**"
      ],
      "text/plain": [
       "<IPython.core.display.Markdown object>"
      ]
     },
     "metadata": {},
     "output_type": "display_data"
    },
    {
     "name": "stdout",
     "output_type": "stream",
     "text": [
      "[[5.95185185 2.74814815 4.33703704 1.33703704]\n",
      " [5.006      3.418      1.464      0.244     ]\n",
      " [6.62608696 3.0173913  5.57391304 2.07391304]]\n"
     ]
    },
    {
     "data": {
      "text/markdown": [
       "**Value of P:**"
      ],
      "text/plain": [
       "<IPython.core.display.Markdown object>"
      ]
     },
     "metadata": {},
     "output_type": "display_data"
    },
    {
     "name": "stdout",
     "output_type": "stream",
     "text": [
      "3.107684293525227 \n",
      "\n",
      "\u001b[94m The new weights for the 9 th iteration\n"
     ]
    },
    {
     "data": {
      "text/markdown": [
       "**The Weight Matrix:**"
      ],
      "text/plain": [
       "<IPython.core.display.Markdown object>"
      ]
     },
     "metadata": {},
     "output_type": "display_data"
    },
    {
     "name": "stdout",
     "output_type": "stream",
     "text": [
      "[[0.0065619  0.         0.         0.        ]\n",
      " [0.         0.03632562 0.         0.        ]\n",
      " [0.         0.         0.01004437 0.        ]\n",
      " [0.         0.         0.         0.39461017]]\n"
     ]
    },
    {
     "data": {
      "text/markdown": [
       "**Value of P:**"
      ],
      "text/plain": [
       "<IPython.core.display.Markdown object>"
      ]
     },
     "metadata": {},
     "output_type": "display_data"
    },
    {
     "name": "stdout",
     "output_type": "stream",
     "text": [
      "3.101840968960053 \n",
      "\n",
      "\u001b[94m The new clusters for the 10 th iteration\n"
     ]
    },
    {
     "data": {
      "text/markdown": [
       "**The Matrix T :**"
      ],
      "text/plain": [
       "<IPython.core.display.Markdown object>"
      ]
     },
     "metadata": {},
     "output_type": "display_data"
    },
    {
     "name": "stdout",
     "output_type": "stream",
     "text": [
      "[1 1 1 1 1 1 1 1 1 1 1 1 1 1 1 1 1 1 1 1 1 1 1 1 1 1 1 1 1 1 1 1 1 1 1 1 1\n",
      " 1 1 1 1 1 1 1 1 1 1 1 1 1 0 0 0 0 0 0 0 0 0 0 0 0 0 0 0 0 0 0 0 0 2 0 0 0\n",
      " 0 0 0 2 0 0 0 0 0 0 0 0 0 0 0 0 0 0 0 0 0 0 0 0 0 0 2 2 2 2 2 2 0 2 2 2 2\n",
      " 2 2 2 2 2 2 2 2 0 2 2 2 2 2 2 2 2 2 0 2 2 2 0 0 2 2 2 2 2 2 2 2 2 2 2 2 2\n",
      " 2 2]\n"
     ]
    },
    {
     "data": {
      "text/markdown": [
       "**No. of data points in 1st cluster:**"
      ],
      "text/plain": [
       "<IPython.core.display.Markdown object>"
      ]
     },
     "metadata": {},
     "output_type": "display_data"
    },
    {
     "name": "stdout",
     "output_type": "stream",
     "text": [
      "53\n"
     ]
    },
    {
     "data": {
      "text/markdown": [
       "**No. of data points in 2nd cluster:**"
      ],
      "text/plain": [
       "<IPython.core.display.Markdown object>"
      ]
     },
     "metadata": {},
     "output_type": "display_data"
    },
    {
     "name": "stdout",
     "output_type": "stream",
     "text": [
      "50\n"
     ]
    },
    {
     "data": {
      "text/markdown": [
       "**No. of data points in 3rd cluster:**"
      ],
      "text/plain": [
       "<IPython.core.display.Markdown object>"
      ]
     },
     "metadata": {},
     "output_type": "display_data"
    },
    {
     "name": "stdout",
     "output_type": "stream",
     "text": [
      "47\n"
     ]
    },
    {
     "data": {
      "text/markdown": [
       "**Value of P:**"
      ],
      "text/plain": [
       "<IPython.core.display.Markdown object>"
      ]
     },
     "metadata": {},
     "output_type": "display_data"
    },
    {
     "name": "stdout",
     "output_type": "stream",
     "text": [
      "3.0979885576536925 \n",
      "\n",
      "\u001b[94m The new centroids for the 10 th iteration\n"
     ]
    },
    {
     "data": {
      "text/markdown": [
       "**Centroids:**"
      ],
      "text/plain": [
       "<IPython.core.display.Markdown object>"
      ]
     },
     "metadata": {},
     "output_type": "display_data"
    },
    {
     "name": "stdout",
     "output_type": "stream",
     "text": [
      "[[5.93773585 2.74339623 4.3245283  1.33018868]\n",
      " [5.006      3.418      1.464      0.244     ]\n",
      " [6.62765957 3.01702128 5.56170213 2.06595745]]\n"
     ]
    },
    {
     "data": {
      "text/markdown": [
       "**Value of P:**"
      ],
      "text/plain": [
       "<IPython.core.display.Markdown object>"
      ]
     },
     "metadata": {},
     "output_type": "display_data"
    },
    {
     "name": "stdout",
     "output_type": "stream",
     "text": [
      "3.0955663708533807 \n",
      "\n",
      "\u001b[94m The new weights for the 10 th iteration\n"
     ]
    },
    {
     "data": {
      "text/markdown": [
       "**The Weight Matrix:**"
      ],
      "text/plain": [
       "<IPython.core.display.Markdown object>"
      ]
     },
     "metadata": {},
     "output_type": "display_data"
    },
    {
     "name": "stdout",
     "output_type": "stream",
     "text": [
      "[[0.00673232 0.         0.         0.        ]\n",
      " [0.         0.03646516 0.         0.        ]\n",
      " [0.         0.         0.01008499 0.        ]\n",
      " [0.         0.         0.         0.39258581]]\n"
     ]
    },
    {
     "data": {
      "text/markdown": [
       "**Value of P:**"
      ],
      "text/plain": [
       "<IPython.core.display.Markdown object>"
      ]
     },
     "metadata": {},
     "output_type": "display_data"
    },
    {
     "name": "stdout",
     "output_type": "stream",
     "text": [
      "3.095508867152213 \n",
      "\n",
      "\u001b[94m The new clusters for the 11 th iteration\n"
     ]
    },
    {
     "data": {
      "text/markdown": [
       "**The Matrix T :**"
      ],
      "text/plain": [
       "<IPython.core.display.Markdown object>"
      ]
     },
     "metadata": {},
     "output_type": "display_data"
    },
    {
     "name": "stdout",
     "output_type": "stream",
     "text": [
      "[1 1 1 1 1 1 1 1 1 1 1 1 1 1 1 1 1 1 1 1 1 1 1 1 1 1 1 1 1 1 1 1 1 1 1 1 1\n",
      " 1 1 1 1 1 1 1 1 1 1 1 1 1 0 0 0 0 0 0 0 0 0 0 0 0 0 0 0 0 0 0 0 0 2 0 0 0\n",
      " 0 0 0 2 0 0 0 0 0 0 0 0 0 0 0 0 0 0 0 0 0 0 0 0 0 0 2 2 2 2 2 2 0 2 2 2 2\n",
      " 2 2 2 2 2 2 2 2 0 2 2 2 2 2 2 2 2 2 0 2 2 2 0 0 2 2 2 2 2 2 2 2 2 2 2 2 2\n",
      " 2 2]\n"
     ]
    },
    {
     "data": {
      "text/markdown": [
       "**No. of data points in 1st cluster:**"
      ],
      "text/plain": [
       "<IPython.core.display.Markdown object>"
      ]
     },
     "metadata": {},
     "output_type": "display_data"
    },
    {
     "name": "stdout",
     "output_type": "stream",
     "text": [
      "53\n"
     ]
    },
    {
     "data": {
      "text/markdown": [
       "**No. of data points in 2nd cluster:**"
      ],
      "text/plain": [
       "<IPython.core.display.Markdown object>"
      ]
     },
     "metadata": {},
     "output_type": "display_data"
    },
    {
     "name": "stdout",
     "output_type": "stream",
     "text": [
      "50\n"
     ]
    },
    {
     "data": {
      "text/markdown": [
       "**No. of data points in 3rd cluster:**"
      ],
      "text/plain": [
       "<IPython.core.display.Markdown object>"
      ]
     },
     "metadata": {},
     "output_type": "display_data"
    },
    {
     "name": "stdout",
     "output_type": "stream",
     "text": [
      "47\n"
     ]
    },
    {
     "data": {
      "text/markdown": [
       "**Value of P:**"
      ],
      "text/plain": [
       "<IPython.core.display.Markdown object>"
      ]
     },
     "metadata": {},
     "output_type": "display_data"
    },
    {
     "name": "stdout",
     "output_type": "stream",
     "text": [
      "3.095508867152213 \n",
      "\n",
      "\u001b[95m The number of iterations: 11\n"
     ]
    }
   ],
   "source": [
    "iris=pd.read_csv (\"https://archive.ics.uci.edu/ml/machine-learning-databases/iris/iris.data\",\n",
    "                   names = [\"Sepal Length\", \"Sepal Width\", \"Petal Length\", \"Petal Width\", \"Class\" ])  #Reading the csv file\n",
    "X1 = iris.iloc[:,0:4]\n",
    "y = iris.iloc[:,-1]\n",
    "X=np.array(X1)\n",
    "Wkmeans(X,3)"
   ]
  }
 ],
 "metadata": {
  "kernelspec": {
   "display_name": "Python 3 (ipykernel)",
   "language": "python",
   "name": "python3"
  },
  "language_info": {
   "codemirror_mode": {
    "name": "ipython",
    "version": 3
   },
   "file_extension": ".py",
   "mimetype": "text/x-python",
   "name": "python",
   "nbconvert_exporter": "python",
   "pygments_lexer": "ipython3",
   "version": "3.9.12"
  }
 },
 "nbformat": 4,
 "nbformat_minor": 5
}
